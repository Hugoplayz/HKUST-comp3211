{
  "cells": [
    {
      "cell_type": "code",
      "execution_count": 119,
      "metadata": {
        "colab": {
          "base_uri": "https://localhost:8080/",
          "height": 75
        },
        "id": "jue_L4m2fPPK",
        "outputId": "d4165c85-c210-4f1c-bca3-b9f382b7cdea"
      },
      "outputs": [],
      "source": [
        "#from google.colab import files\n",
        "#uploaded = files.upload()\n",
        "import csv\n",
        "import numpy as np\n",
        "import random\n",
        "import time\n",
        "start = time.time()\n",
        "PROGRAM_SIZE = 1000\n",
        "PROBABLITIY = 9\n",
        "rows = []\n",
        "\n",
        "with open('gp-training-set.csv', newline='') as csvfile:\n",
        "    csvrows = csv.reader(csvfile)   ##9x+1y\n",
        "\n",
        "    for row in csvrows:\n",
        "        rows.append([float(i) for i in row])"
      ]
    },
    {
      "cell_type": "markdown",
      "metadata": {
        "id": "muDyVFjBfe-s"
      },
      "source": [
        "# **3.1 Fitness function**"
      ]
    },
    {
      "cell_type": "code",
      "execution_count": 120,
      "metadata": {
        "id": "dpEWZtxtfrnX"
      },
      "outputs": [],
      "source": [
        "def fitness(gen,inputs):\n",
        "    fit = 0\n",
        "    for input in inputs:\n",
        "        X = []\n",
        "        X = input[:9]\n",
        "        X.append(1.0)\n",
        "        arrX = np.array(X,dtype=float)\n",
        "        arrgen = np.array(gen.weight,dtype=float)\n",
        "        result = np.dot(arrX,arrgen)\n",
        "        #print(result)\n",
        "        if (result >= 0.0 and float(input[-1])):\n",
        "            fit += 1\n",
        "        elif result < 0.0 and (not float(input[-1])):\n",
        "            fit += 1\n",
        "    return fit"
      ]
    },
    {
      "cell_type": "code",
      "execution_count": 121,
      "metadata": {},
      "outputs": [],
      "source": [
        "class gen:\n",
        "    def __init__(self):\n",
        "        self.weight = [random.uniform(-5.0,5.0) for _ in range(10)]\n",
        "        self.fit = fitness(self,rows)\n",
        "        \n",
        "    def updatefit(self):\n",
        "        self.fit = fitness(self,rows)\n",
        "    \n",
        "    "
      ]
    },
    {
      "cell_type": "markdown",
      "metadata": {
        "id": "6mlX1OFzfvkk"
      },
      "source": [
        "# **3.3 Copy operator**"
      ]
    },
    {
      "cell_type": "code",
      "execution_count": 122,
      "metadata": {
        "id": "1hm7SyV6f9T-"
      },
      "outputs": [],
      "source": [
        "def tournament_selection(gens):##copy operater\n",
        "    selected = []\n",
        "    for _ in range(10):\n",
        "        selected.append(gens[random.randint(0,PROGRAM_SIZE - 1)])\n",
        "    for i in range(9):\n",
        "        for j in range(9-i):\n",
        "            if selected[j].fit < selected[j+1].fit:\n",
        "                selected[j], selected[j+1] = selected[j+1], selected[j]\n",
        "    for i in range(9):\n",
        "        if (random.randint(0,PROBABLITIY)):\n",
        "            return selected[i]\n",
        "    return selected[9]"
      ]
    },
    {
      "cell_type": "markdown",
      "metadata": {
        "id": "YPEqJEG9gKxH"
      },
      "source": [
        "# **3.2 Crossover operator**"
      ]
    },
    {
      "cell_type": "code",
      "execution_count": 123,
      "metadata": {
        "id": "9BU5u6PhgTtv"
      },
      "outputs": [],
      "source": [
        "def crossover(gens):\n",
        "    parents = []\n",
        "    child = gen()\n",
        "    parents.append(tournament_selection(gens))\n",
        "    parents.append(tournament_selection(gens))\n",
        "    for i in range(10):\n",
        "        if (random.randint(0,1)):\n",
        "            child.weight[i] = parents[0].weight[i]\n",
        "        else:\n",
        "            child.weight[i] = parents[1].weight[i]\n",
        "        child.updatefit()\n",
        "    return child"
      ]
    },
    {
      "cell_type": "markdown",
      "metadata": {
        "id": "m9Dp229jgYnr"
      },
      "source": [
        "# **3.4 Mutation operator**"
      ]
    },
    {
      "cell_type": "code",
      "execution_count": 124,
      "metadata": {
        "id": "ll0ttfO-gtQ5"
      },
      "outputs": [],
      "source": [
        "def mutation(gens):\n",
        "    gen = tournament_selection(gens)\n",
        "    i = random.randint(0,9)\n",
        "    match (random.randint(0,3)):\n",
        "        case 0:\n",
        "            gen.weight[i] *= -0.5\n",
        "            gen.updatefit()\n",
        "        case 1:\n",
        "            gen.weight[i] *= -1.5\n",
        "            gen.updatefit()\n",
        "        case 2:\n",
        "            gen.weight[i] *= 0.5\n",
        "            gen.updatefit()         \n",
        "        case 3:\n",
        "            gen.weight[i] *= 1.5\n",
        "            gen.updatefit()\n",
        "    return gen"
      ]
    },
    {
      "cell_type": "markdown",
      "metadata": {
        "id": "7Zn7J8-UgyRf"
      },
      "source": [
        "# **3.5 Size = 1000**\n",
        "# **Initial function**"
      ]
    },
    {
      "cell_type": "code",
      "execution_count": 125,
      "metadata": {
        "id": "FZQyvPvShHb9"
      },
      "outputs": [],
      "source": [
        "def inttial_gens(size):\n",
        "    gens = []\n",
        "    for _ in range(size):\n",
        "        gens.append(gen())\n",
        "    print(\"finish_inti\")\n",
        "    return gens"
      ]
    },
    {
      "cell_type": "markdown",
      "metadata": {
        "id": "wT0AxuAphLFo"
      },
      "source": [
        "# **3.6 End when fitness = 100 or it reach 50 generations**"
      ]
    },
    {
      "cell_type": "code",
      "execution_count": 126,
      "metadata": {
        "colab": {
          "base_uri": "https://localhost:8080/",
          "height": 0
        },
        "id": "ReA_biaFhvta",
        "outputId": "183d8ea4-7791-4535-fce2-154721ccaf7b"
      },
      "outputs": [
        {
          "name": "stdout",
          "output_type": "stream",
          "text": [
            "finish_inti\n",
            "Generation  0  :  78\n",
            "finish_getting_next_generation\n",
            "Generation  1  :  81\n",
            "finish_getting_next_generation\n",
            "Generation  2  :  90\n",
            "finish_getting_next_generation\n",
            "Generation  3  :  93\n",
            "finish_getting_next_generation\n",
            "Generation  4  :  95\n",
            "finish_getting_next_generation\n",
            "Generation  5  :  95\n",
            "finish_getting_next_generation\n",
            "Generation  6  :  96\n",
            "finish_getting_next_generation\n",
            "Generation  7  :  96\n",
            "finish_getting_next_generation\n",
            "Generation  8  :  98\n",
            "finish_getting_next_generation\n",
            "Generation  9  :  99\n",
            "finish_getting_next_generation\n",
            "Generation  10  :  99\n",
            "finish_getting_next_generation\n",
            "Generation  11  :  99\n",
            "finish_getting_next_generation\n",
            "Generation  12  :  99\n",
            "finish_getting_next_generation\n",
            "Generation  13  :  99\n",
            "finish_getting_next_generation\n",
            "Generation  14  :  100\n",
            "final output :  [-1.7342764224257712, -2.3967555845536612, -4.9193761947490735, 2.4031417534925126, 2.62867082038208, -1.5901524232762752, 4.455420909694537, -0.6725641187898184, 2.0566573556379932, -0.5074943079371579]\n",
            "time_taken : 23.071534s\n"
          ]
        }
      ],
      "source": [
        "def get_next_generation(gens):\n",
        "    new_gens = []\n",
        "    for _ in range(int(PROGRAM_SIZE*0.1)):\n",
        "        new_gens.append(tournament_selection(gens))\n",
        "    for _ in range(int(PROGRAM_SIZE*0.89)):\n",
        "        new_gens.append(crossover(gens))\n",
        "    for _ in range(int(PROGRAM_SIZE*0.01)):\n",
        "        new_gens.append(mutation(gens))\n",
        "    print(\"finish_getting_next_generation\")\n",
        "    return new_gens\n",
        "\n",
        "\n",
        "\n",
        "\n",
        "gens = inttial_gens(PROGRAM_SIZE)\n",
        "generation = 0\n",
        "for i in range(50):\n",
        "    for i in range(PROGRAM_SIZE-1):\n",
        "        for j in range(PROGRAM_SIZE-i-1):\n",
        "            if gens[j].fit < gens[j+1].fit:\n",
        "                gens[j], gens[j+1] = gens[j+1], gens[j]\n",
        "    best_fit = fitness(gens[0],rows)\n",
        "    print(\"Generation \",generation,\" : \",best_fit)\n",
        "    if best_fit >= 100:\n",
        "        print(\"final output : \",gens[0].weight)\n",
        "        end = time.time()\n",
        "        print(\"time_taken : %fs\" % (end - start))\n",
        "        break\n",
        "    else:\n",
        "        gens = get_next_generation(gens)\n",
        "        generation += 1"
      ]
    }
  ],
  "metadata": {
    "colab": {
      "provenance": []
    },
    "kernelspec": {
      "display_name": "Python 3",
      "name": "python3"
    },
    "language_info": {
      "codemirror_mode": {
        "name": "ipython",
        "version": 3
      },
      "file_extension": ".py",
      "mimetype": "text/x-python",
      "name": "python",
      "nbconvert_exporter": "python",
      "pygments_lexer": "ipython3",
      "version": "3.13.1"
    }
  },
  "nbformat": 4,
  "nbformat_minor": 0
}
