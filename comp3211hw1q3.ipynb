{
  "nbformat": 4,
  "nbformat_minor": 0,
  "metadata": {
    "colab": {
      "provenance": []
    },
    "kernelspec": {
      "name": "python3",
      "display_name": "Python 3"
    },
    "language_info": {
      "name": "python"
    }
  },
  "cells": [
    {
      "cell_type": "code",
      "execution_count": 1,
      "metadata": {
        "colab": {
          "base_uri": "https://localhost:8080/",
          "height": 75
        },
        "id": "jue_L4m2fPPK",
        "outputId": "d4165c85-c210-4f1c-bca3-b9f382b7cdea"
      },
      "outputs": [
        {
          "output_type": "display_data",
          "data": {
            "text/plain": [
              "<IPython.core.display.HTML object>"
            ],
            "text/html": [
              "\n",
              "     <input type=\"file\" id=\"files-25f6a69c-2829-4d7f-aff1-ce8d80d6f945\" name=\"files[]\" multiple disabled\n",
              "        style=\"border:none\" />\n",
              "     <output id=\"result-25f6a69c-2829-4d7f-aff1-ce8d80d6f945\">\n",
              "      Upload widget is only available when the cell has been executed in the\n",
              "      current browser session. Please rerun this cell to enable.\n",
              "      </output>\n",
              "      <script>// Copyright 2017 Google LLC\n",
              "//\n",
              "// Licensed under the Apache License, Version 2.0 (the \"License\");\n",
              "// you may not use this file except in compliance with the License.\n",
              "// You may obtain a copy of the License at\n",
              "//\n",
              "//      http://www.apache.org/licenses/LICENSE-2.0\n",
              "//\n",
              "// Unless required by applicable law or agreed to in writing, software\n",
              "// distributed under the License is distributed on an \"AS IS\" BASIS,\n",
              "// WITHOUT WARRANTIES OR CONDITIONS OF ANY KIND, either express or implied.\n",
              "// See the License for the specific language governing permissions and\n",
              "// limitations under the License.\n",
              "\n",
              "/**\n",
              " * @fileoverview Helpers for google.colab Python module.\n",
              " */\n",
              "(function(scope) {\n",
              "function span(text, styleAttributes = {}) {\n",
              "  const element = document.createElement('span');\n",
              "  element.textContent = text;\n",
              "  for (const key of Object.keys(styleAttributes)) {\n",
              "    element.style[key] = styleAttributes[key];\n",
              "  }\n",
              "  return element;\n",
              "}\n",
              "\n",
              "// Max number of bytes which will be uploaded at a time.\n",
              "const MAX_PAYLOAD_SIZE = 100 * 1024;\n",
              "\n",
              "function _uploadFiles(inputId, outputId) {\n",
              "  const steps = uploadFilesStep(inputId, outputId);\n",
              "  const outputElement = document.getElementById(outputId);\n",
              "  // Cache steps on the outputElement to make it available for the next call\n",
              "  // to uploadFilesContinue from Python.\n",
              "  outputElement.steps = steps;\n",
              "\n",
              "  return _uploadFilesContinue(outputId);\n",
              "}\n",
              "\n",
              "// This is roughly an async generator (not supported in the browser yet),\n",
              "// where there are multiple asynchronous steps and the Python side is going\n",
              "// to poll for completion of each step.\n",
              "// This uses a Promise to block the python side on completion of each step,\n",
              "// then passes the result of the previous step as the input to the next step.\n",
              "function _uploadFilesContinue(outputId) {\n",
              "  const outputElement = document.getElementById(outputId);\n",
              "  const steps = outputElement.steps;\n",
              "\n",
              "  const next = steps.next(outputElement.lastPromiseValue);\n",
              "  return Promise.resolve(next.value.promise).then((value) => {\n",
              "    // Cache the last promise value to make it available to the next\n",
              "    // step of the generator.\n",
              "    outputElement.lastPromiseValue = value;\n",
              "    return next.value.response;\n",
              "  });\n",
              "}\n",
              "\n",
              "/**\n",
              " * Generator function which is called between each async step of the upload\n",
              " * process.\n",
              " * @param {string} inputId Element ID of the input file picker element.\n",
              " * @param {string} outputId Element ID of the output display.\n",
              " * @return {!Iterable<!Object>} Iterable of next steps.\n",
              " */\n",
              "function* uploadFilesStep(inputId, outputId) {\n",
              "  const inputElement = document.getElementById(inputId);\n",
              "  inputElement.disabled = false;\n",
              "\n",
              "  const outputElement = document.getElementById(outputId);\n",
              "  outputElement.innerHTML = '';\n",
              "\n",
              "  const pickedPromise = new Promise((resolve) => {\n",
              "    inputElement.addEventListener('change', (e) => {\n",
              "      resolve(e.target.files);\n",
              "    });\n",
              "  });\n",
              "\n",
              "  const cancel = document.createElement('button');\n",
              "  inputElement.parentElement.appendChild(cancel);\n",
              "  cancel.textContent = 'Cancel upload';\n",
              "  const cancelPromise = new Promise((resolve) => {\n",
              "    cancel.onclick = () => {\n",
              "      resolve(null);\n",
              "    };\n",
              "  });\n",
              "\n",
              "  // Wait for the user to pick the files.\n",
              "  const files = yield {\n",
              "    promise: Promise.race([pickedPromise, cancelPromise]),\n",
              "    response: {\n",
              "      action: 'starting',\n",
              "    }\n",
              "  };\n",
              "\n",
              "  cancel.remove();\n",
              "\n",
              "  // Disable the input element since further picks are not allowed.\n",
              "  inputElement.disabled = true;\n",
              "\n",
              "  if (!files) {\n",
              "    return {\n",
              "      response: {\n",
              "        action: 'complete',\n",
              "      }\n",
              "    };\n",
              "  }\n",
              "\n",
              "  for (const file of files) {\n",
              "    const li = document.createElement('li');\n",
              "    li.append(span(file.name, {fontWeight: 'bold'}));\n",
              "    li.append(span(\n",
              "        `(${file.type || 'n/a'}) - ${file.size} bytes, ` +\n",
              "        `last modified: ${\n",
              "            file.lastModifiedDate ? file.lastModifiedDate.toLocaleDateString() :\n",
              "                                    'n/a'} - `));\n",
              "    const percent = span('0% done');\n",
              "    li.appendChild(percent);\n",
              "\n",
              "    outputElement.appendChild(li);\n",
              "\n",
              "    const fileDataPromise = new Promise((resolve) => {\n",
              "      const reader = new FileReader();\n",
              "      reader.onload = (e) => {\n",
              "        resolve(e.target.result);\n",
              "      };\n",
              "      reader.readAsArrayBuffer(file);\n",
              "    });\n",
              "    // Wait for the data to be ready.\n",
              "    let fileData = yield {\n",
              "      promise: fileDataPromise,\n",
              "      response: {\n",
              "        action: 'continue',\n",
              "      }\n",
              "    };\n",
              "\n",
              "    // Use a chunked sending to avoid message size limits. See b/62115660.\n",
              "    let position = 0;\n",
              "    do {\n",
              "      const length = Math.min(fileData.byteLength - position, MAX_PAYLOAD_SIZE);\n",
              "      const chunk = new Uint8Array(fileData, position, length);\n",
              "      position += length;\n",
              "\n",
              "      const base64 = btoa(String.fromCharCode.apply(null, chunk));\n",
              "      yield {\n",
              "        response: {\n",
              "          action: 'append',\n",
              "          file: file.name,\n",
              "          data: base64,\n",
              "        },\n",
              "      };\n",
              "\n",
              "      let percentDone = fileData.byteLength === 0 ?\n",
              "          100 :\n",
              "          Math.round((position / fileData.byteLength) * 100);\n",
              "      percent.textContent = `${percentDone}% done`;\n",
              "\n",
              "    } while (position < fileData.byteLength);\n",
              "  }\n",
              "\n",
              "  // All done.\n",
              "  yield {\n",
              "    response: {\n",
              "      action: 'complete',\n",
              "    }\n",
              "  };\n",
              "}\n",
              "\n",
              "scope.google = scope.google || {};\n",
              "scope.google.colab = scope.google.colab || {};\n",
              "scope.google.colab._files = {\n",
              "  _uploadFiles,\n",
              "  _uploadFilesContinue,\n",
              "};\n",
              "})(self);\n",
              "</script> "
            ]
          },
          "metadata": {}
        },
        {
          "output_type": "stream",
          "name": "stdout",
          "text": [
            "Saving gp-training-set.csv to gp-training-set.csv\n"
          ]
        }
      ],
      "source": [
        "from google.colab import files\n",
        "uploaded = files.upload()\n",
        "import csv\n",
        "import numpy as np\n",
        "import random\n",
        "import time\n",
        "start = time.time()\n",
        "PROGRAM_SIZE = 1000\n",
        "PROBABLITIY = 9\n",
        "rows = []\n",
        "\n",
        "with open('gp-training-set.csv', newline='') as csvfile:\n",
        "    csvrows = csv.reader(csvfile)   ##9x+1y\n",
        "\n",
        "    for row in csvrows:\n",
        "        rows.append([float(i) for i in row])"
      ]
    },
    {
      "cell_type": "markdown",
      "source": [
        "# **3.1 Fitness function**"
      ],
      "metadata": {
        "id": "muDyVFjBfe-s"
      }
    },
    {
      "cell_type": "code",
      "source": [
        "def fitness(gen,inputs):\n",
        "    fit = 0\n",
        "    for input in inputs:\n",
        "        X = []\n",
        "        X = input[:9]\n",
        "        X.append(1.0)\n",
        "        arrX = np.array(X,dtype=float)\n",
        "        arrgen = np.array(gen,dtype=float)\n",
        "        result = np.dot(arrX,arrgen)\n",
        "        #print(result)\n",
        "        if (result >= 0.0 and float(input[-1])):\n",
        "            fit += 1\n",
        "        elif result < 0.0 and (not float(input[-1])):\n",
        "            fit += 1\n",
        "    return fit"
      ],
      "metadata": {
        "id": "dpEWZtxtfrnX"
      },
      "execution_count": 2,
      "outputs": []
    },
    {
      "cell_type": "markdown",
      "source": [
        "# **3.3 Copy operator**"
      ],
      "metadata": {
        "id": "6mlX1OFzfvkk"
      }
    },
    {
      "cell_type": "code",
      "source": [
        "def tournament_selection(gens):##copy operater\n",
        "    selected = []\n",
        "    for _ in range(10):\n",
        "        selected.append(gens[random.randint(0,PROGRAM_SIZE - 1)])\n",
        "    for i in range(9):\n",
        "        for j in range(9-i):\n",
        "            if fitness(selected[j],rows) < fitness(selected[j+1],rows):\n",
        "                selected[j], selected[j+1] = selected[j+1], selected[j]\n",
        "    for i in range(9):\n",
        "        if (random.randint(0,PROBABLITIY)):\n",
        "            return selected[i]\n",
        "    return selected[9]"
      ],
      "metadata": {
        "id": "1hm7SyV6f9T-"
      },
      "execution_count": 3,
      "outputs": []
    },
    {
      "cell_type": "markdown",
      "source": [
        "# **3.2 Crossover operator**"
      ],
      "metadata": {
        "id": "YPEqJEG9gKxH"
      }
    },
    {
      "cell_type": "code",
      "source": [
        "def crossover(gens):\n",
        "    parents = []\n",
        "    child = []\n",
        "    parents.append(tournament_selection(gens))\n",
        "    parents.append(tournament_selection(gens))\n",
        "    for i in range(10):\n",
        "        if (random.randint(0,1)):\n",
        "            child.append(parents[0][i])\n",
        "        else:\n",
        "            child.append(parents[1][i])\n",
        "    return child"
      ],
      "metadata": {
        "id": "9BU5u6PhgTtv"
      },
      "execution_count": 4,
      "outputs": []
    },
    {
      "cell_type": "markdown",
      "source": [
        "# **3.4 Mutation operator**"
      ],
      "metadata": {
        "id": "m9Dp229jgYnr"
      }
    },
    {
      "cell_type": "code",
      "source": [
        "def mutation(gens):\n",
        "    gen = tournament_selection(gens)\n",
        "    i = random.randint(0,9)\n",
        "    match (random.randint(0,3)):\n",
        "        case 0:\n",
        "            gen[i] *= -0.5\n",
        "        case 1:\n",
        "            gen[i] *= -1.5\n",
        "        case 2:\n",
        "            gen[i] *= 0.5\n",
        "        case 3:\n",
        "            gen[i] *= 1.5\n",
        "    return gen"
      ],
      "metadata": {
        "id": "ll0ttfO-gtQ5"
      },
      "execution_count": 5,
      "outputs": []
    },
    {
      "cell_type": "markdown",
      "source": [
        "# **3.5 Size = 1000**\n",
        "# **Initial function**"
      ],
      "metadata": {
        "id": "7Zn7J8-UgyRf"
      }
    },
    {
      "cell_type": "code",
      "source": [
        "def inttial_gens(size):\n",
        "    gens = []\n",
        "    for _ in range(size):\n",
        "        gen = [random.uniform(-5.0,5.0) for _ in range(10)]\n",
        "        gens.append(gen)\n",
        "    print(\"finish_inti\")\n",
        "    return gens"
      ],
      "metadata": {
        "id": "FZQyvPvShHb9"
      },
      "execution_count": 6,
      "outputs": []
    },
    {
      "cell_type": "markdown",
      "source": [
        "# **3.6 End when fitness = 100 or it reach 50 generations**"
      ],
      "metadata": {
        "id": "wT0AxuAphLFo"
      }
    },
    {
      "cell_type": "code",
      "source": [
        "def get_next_generation(gens):\n",
        "    new_gens = []\n",
        "    for _ in range(int(PROGRAM_SIZE*0.1)):\n",
        "        new_gens.append(tournament_selection(gens))\n",
        "    for _ in range(int(PROGRAM_SIZE*0.89)):\n",
        "        new_gens.append(crossover(gens))\n",
        "    for _ in range(int(PROGRAM_SIZE*0.01)):\n",
        "        new_gens.append(mutation(gens))\n",
        "    print(\"finish_getting_next_generation\")\n",
        "    return new_gens\n",
        "\n",
        "\n",
        "\n",
        "\n",
        "gens = inttial_gens(PROGRAM_SIZE)\n",
        "generation = 0\n",
        "for i in range(50):\n",
        "    for i in range(PROGRAM_SIZE-1):\n",
        "        for j in range(PROGRAM_SIZE-i-1):\n",
        "            if fitness(gens[j],rows) < fitness(gens[j+1],rows):\n",
        "                gens[j], gens[j+1] = gens[j+1], gens[j]\n",
        "    best_fit = fitness(gens[0],rows)\n",
        "    print(\"Generation \",generation,\" : \",best_fit)\n",
        "    if best_fit >= 100:\n",
        "        print(\"final output : \",gens[0])\n",
        "        end = time.time()\n",
        "        print(\"time_taken : %fs\" % (end - start))\n",
        "        break\n",
        "    else:\n",
        "        gens = get_next_generation(gens)\n",
        "        generation += 1"
      ],
      "metadata": {
        "colab": {
          "base_uri": "https://localhost:8080/",
          "height": 0
        },
        "id": "ReA_biaFhvta",
        "outputId": "183d8ea4-7791-4535-fce2-154721ccaf7b"
      },
      "execution_count": 7,
      "outputs": [
        {
          "output_type": "stream",
          "name": "stdout",
          "text": [
            "finish_inti\n",
            "Generation  0  :  82\n",
            "finish_getting_next_generation\n",
            "Generation  1  :  83\n",
            "finish_getting_next_generation\n",
            "Generation  2  :  86\n",
            "finish_getting_next_generation\n",
            "Generation  3  :  93\n",
            "finish_getting_next_generation\n",
            "Generation  4  :  95\n",
            "finish_getting_next_generation\n",
            "Generation  5  :  96\n",
            "finish_getting_next_generation\n",
            "Generation  6  :  98\n",
            "finish_getting_next_generation\n",
            "Generation  7  :  97\n",
            "finish_getting_next_generation\n",
            "Generation  8  :  98\n",
            "finish_getting_next_generation\n",
            "Generation  9  :  99\n",
            "finish_getting_next_generation\n",
            "Generation  10  :  99\n",
            "finish_getting_next_generation\n",
            "Generation  11  :  99\n",
            "finish_getting_next_generation\n",
            "Generation  12  :  99\n",
            "finish_getting_next_generation\n",
            "Generation  13  :  99\n",
            "finish_getting_next_generation\n",
            "Generation  14  :  99\n",
            "finish_getting_next_generation\n",
            "Generation  15  :  99\n",
            "finish_getting_next_generation\n",
            "Generation  16  :  100\n",
            "final output :  [-1.0318115658688374, -2.9275785128690934, -4.981658143768676, 2.38545180981263, 3.346347435215801, -2.681946640831039, 4.521410981378789, -0.5545310562549863, 1.6920291165959442, -0.45705928974881616]\n",
            "time_taken : 7303.636600s\n"
          ]
        }
      ]
    }
  ]
}